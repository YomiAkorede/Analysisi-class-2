{
 "cells": [
  {
   "cell_type": "code",
   "execution_count": 2,
   "id": "a6b65aa4",
   "metadata": {},
   "outputs": [
    {
     "name": "stdout",
     "output_type": "stream",
     "text": [
      "Amala is my favourite .\n"
     ]
    }
   ],
   "source": [
    "x='Amala is my favourite'+'.'\n",
    "print(x)"
   ]
  },
  {
   "cell_type": "code",
   "execution_count": 3,
   "id": "1f5347c0",
   "metadata": {},
   "outputs": [
    {
     "name": "stdout",
     "output_type": "stream",
     "text": [
      "Amala is my favourable.\n"
     ]
    }
   ],
   "source": [
    "x= 'Amala is my favourable.'\n",
    "print(x)"
   ]
  },
  {
   "cell_type": "code",
   "execution_count": 5,
   "id": "28e0efe7",
   "metadata": {},
   "outputs": [
    {
     "name": "stdout",
     "output_type": "stream",
     "text": [
      "indomie is my favourite\n"
     ]
    }
   ],
   "source": [
    "x='indomie is my favourite'\n",
    "print(x)"
   ]
  },
  {
   "cell_type": "code",
   "execution_count": 7,
   "id": "2365281b",
   "metadata": {},
   "outputs": [
    {
     "name": "stdout",
     "output_type": "stream",
     "text": [
      "Amala is my favourite2\n"
     ]
    }
   ],
   "source": [
    "x='Amala is my favourite'+ '2'\n",
    "print(x)\n"
   ]
  },
  {
   "cell_type": "code",
   "execution_count": 8,
   "id": "32097518",
   "metadata": {},
   "outputs": [
    {
     "name": "stdout",
     "output_type": "stream",
     "text": [
      "5\n"
     ]
    }
   ],
   "source": [
    "y=3+2\n",
    "print(y)"
   ]
  },
  {
   "cell_type": "code",
   "execution_count": 14,
   "id": "712ace3b",
   "metadata": {},
   "outputs": [
    {
     "name": "stdout",
     "output_type": "stream",
     "text": [
      "Amala is my favorite\n"
     ]
    }
   ],
   "source": [
    "x='Amala'\n",
    "y=  ' is'\n",
    "z= ' my favorite'\n",
    "print(x+y+z)"
   ]
  },
  {
   "cell_type": "code",
   "execution_count": 19,
   "id": "ce0ad0c4",
   "metadata": {},
   "outputs": [
    {
     "name": "stdout",
     "output_type": "stream",
     "text": [
      "I've always wanted to eat a whole cow.\n"
     ]
    }
   ],
   "source": [
    "x=\"I've always wanted to eat a whole cow.\"\n",
    "print(x)"
   ]
  },
  {
   "cell_type": "markdown",
   "id": "5f196e13",
   "metadata": {},
   "source": []
  },
  {
   "cell_type": "code",
   "execution_count": 28,
   "id": "a25aa7ff",
   "metadata": {},
   "outputs": [
    {
     "name": "stdout",
     "output_type": "stream",
     "text": [
      "Hello\n"
     ]
    }
   ],
   "source": [
    "a='Hello World'\n",
    "print (a[:5])"
   ]
  },
  {
   "cell_type": "code",
   "execution_count": 29,
   "id": "a1932725",
   "metadata": {},
   "outputs": [
    {
     "name": "stdout",
     "output_type": "stream",
     "text": [
      "w\n"
     ]
    }
   ],
   "source": [
    "a='Hello world'\n",
    "print (a[6])"
   ]
  },
  {
   "cell_type": "code",
   "execution_count": 30,
   "id": "c1f4bc6b",
   "metadata": {},
   "outputs": [
    {
     "name": "stdout",
     "output_type": "stream",
     "text": [
      "r\n"
     ]
    }
   ],
   "source": [
    "a='Hello world'\n",
    "print (a[-3])"
   ]
  },
  {
   "cell_type": "code",
   "execution_count": 31,
   "id": "1787039b",
   "metadata": {},
   "outputs": [
    {
     "name": "stdout",
     "output_type": "stream",
     "text": [
      "llo\n"
     ]
    }
   ],
   "source": [
    "a='Hello world'\n",
    "print (a[2:5])"
   ]
  },
  {
   "cell_type": "code",
   "execution_count": 36,
   "id": "67f6d4d9",
   "metadata": {},
   "outputs": [
    {
     "data": {
      "text/plain": [
       "'Hello worldHello worldHello world'"
      ]
     },
     "execution_count": 36,
     "metadata": {},
     "output_type": "execute_result"
    }
   ],
   "source": [
    "a='Hello world'\n",
    "a*3"
   ]
  },
  {
   "cell_type": "code",
   "execution_count": 40,
   "id": "00bd1922",
   "metadata": {},
   "outputs": [
    {
     "data": {
      "text/plain": [
       "'Hello worldHello world'"
      ]
     },
     "execution_count": 40,
     "metadata": {},
     "output_type": "execute_result"
    }
   ],
   "source": [
    "a ='Hello world'\n",
    "a + a "
   ]
  },
  {
   "cell_type": "code",
   "execution_count": 47,
   "id": "cd1c0c10",
   "metadata": {},
   "outputs": [
    {
     "data": {
      "text/plain": [
       "['Red', 'Black', 'White', 'orange']"
      ]
     },
     "execution_count": 47,
     "metadata": {},
     "output_type": "execute_result"
    }
   ],
   "source": [
    "ice_cream = ['Red','Black','White']\n",
    "ice_cream.append('orange')\n",
    "ice_cream"
   ]
  },
  {
   "cell_type": "code",
   "execution_count": 46,
   "id": "3805a32d",
   "metadata": {},
   "outputs": [
    {
     "name": "stdout",
     "output_type": "stream",
     "text": [
      "White\n"
     ]
    },
    {
     "data": {
      "text/plain": [
       "['Red', 'Black', 'White']"
      ]
     },
     "execution_count": 46,
     "metadata": {},
     "output_type": "execute_result"
    }
   ],
   "source": [
    "ice_cream = ['Red','Black','White']\n",
    "print (ice_cream[2])\n",
    "ice_cream\n"
   ]
  },
  {
   "cell_type": "code",
   "execution_count": 1,
   "id": "668d83e2",
   "metadata": {},
   "outputs": [
    {
     "name": "stdout",
     "output_type": "stream",
     "text": [
      "Tayo and ade are both leaving in kaduna but later mived to lagos for the university pursuit\n"
     ]
    }
   ],
   "source": [
    "Y=\"Tayo and ade are both leaving in kaduna but later mived to lagos for the university pursuit\"\n",
    "print(Y)"
   ]
  },
  {
   "cell_type": "markdown",
   "id": "868e82f7",
   "metadata": {},
   "source": [
    "x= \"Dammy and sanmi are lovers\"\n",
    "print(x)"
   ]
  },
  {
   "cell_type": "code",
   "execution_count": 4,
   "id": "379d9e87",
   "metadata": {},
   "outputs": [
    {
     "data": {
      "text/plain": [
       "tuple"
      ]
     },
     "execution_count": 4,
     "metadata": {},
     "output_type": "execute_result"
    }
   ],
   "source": [
    "tuple_scoops=(1,2,3,2,1)\n",
    "type(tuple_scoops)"
   ]
  },
  {
   "cell_type": "code",
   "execution_count": 3,
   "id": "1c3d85a6",
   "metadata": {},
   "outputs": [
    {
     "data": {
      "text/plain": [
       "1"
      ]
     },
     "execution_count": 3,
     "metadata": {},
     "output_type": "execute_result"
    }
   ],
   "source": [
    "tuple_scoops=(1,2,3,2,1)\n",
    "tuple_scoops[0]"
   ]
  },
  {
   "cell_type": "code",
   "execution_count": 6,
   "id": "1b0c458b",
   "metadata": {},
   "outputs": [
    {
     "ename": "AttributeError",
     "evalue": "'tuple' object has no attribute 'append'",
     "output_type": "error",
     "traceback": [
      "\u001b[1;31m---------------------------------------------------------------------------\u001b[0m",
      "\u001b[1;31mAttributeError\u001b[0m                            Traceback (most recent call last)",
      "Cell \u001b[1;32mIn[6], line 1\u001b[0m\n\u001b[1;32m----> 1\u001b[0m tuple_scoops\u001b[38;5;241m.\u001b[39mappend(\u001b[38;5;241m3\u001b[39m)\n\u001b[0;32m      2\u001b[0m tuple_scoops\n",
      "\u001b[1;31mAttributeError\u001b[0m: 'tuple' object has no attribute 'append'"
     ]
    }
   ],
   "source": [
    "tuple_scoops.append(3)\n",
    "tuple_scoops"
   ]
  },
  {
   "cell_type": "code",
   "execution_count": 7,
   "id": "cc5f5b29",
   "metadata": {},
   "outputs": [
    {
     "data": {
      "text/plain": [
       "set"
      ]
     },
     "execution_count": 7,
     "metadata": {},
     "output_type": "execute_result"
    }
   ],
   "source": [
    "daily_prints={1,2,3}\n",
    "type(daily_prints)"
   ]
  },
  {
   "cell_type": "code",
   "execution_count": 8,
   "id": "60e5a041",
   "metadata": {},
   "outputs": [
    {
     "name": "stdout",
     "output_type": "stream",
     "text": [
      "{1, 2, 3}\n"
     ]
    }
   ],
   "source": [
    "daily_prints={1,2,3}\n",
    "print(daily_prints)"
   ]
  },
  {
   "cell_type": "code",
   "execution_count": 10,
   "id": "1f38b9dd",
   "metadata": {},
   "outputs": [
    {
     "name": "stdout",
     "output_type": "stream",
     "text": [
      "{1, 2, 99, 3, 5, 7, 9, 44, 21, 22, 31}\n"
     ]
    }
   ],
   "source": [
    "daily_prints_log= {1,2,31,5,7,7,3,9,44,99,22,21,22,5}\n",
    "print(daily_prints_log)"
   ]
  },
  {
   "cell_type": "code",
   "execution_count": 12,
   "id": "bcc38a40",
   "metadata": {},
   "outputs": [
    {
     "name": "stdout",
     "output_type": "stream",
     "text": [
      "{0, 1, 2, 3, 900, 5, 6, 7, 9, 12, 21, 22, 88, 31, 99, 38, 44}\n"
     ]
    }
   ],
   "source": [
    "daily_prints_log= {1,2,31,5,7,7,3,9,44,99,22,21,22,5}\n",
    "wifes_daily_prints_log= {0,6,38,5,7,7,3,9,44,88,12,21,22,900}\n",
    "print(daily_prints_log|wifes_daily_prints_log)"
   ]
  },
  {
   "cell_type": "code",
   "execution_count": 13,
   "id": "769cbeb7",
   "metadata": {},
   "outputs": [
    {
     "name": "stdout",
     "output_type": "stream",
     "text": [
      "{3, 5, 7, 9, 44, 21, 22}\n"
     ]
    }
   ],
   "source": [
    "daily_prints_log= {1,2,31,5,7,7,3,9,44,99,22,21,22,5}\n",
    "wifes_daily_prints_log= {0,6,38,5,7,7,3,9,44,88,12,21,22,900}\n",
    "print(daily_prints_log & wifes_daily_prints_log)"
   ]
  },
  {
   "cell_type": "code",
   "execution_count": 14,
   "id": "397c19e5",
   "metadata": {},
   "outputs": [
    {
     "name": "stdout",
     "output_type": "stream",
     "text": [
      "{1, 2, 99, 31}\n"
     ]
    }
   ],
   "source": [
    "daily_prints_log= {1,2,31,5,7,7,3,9,44,99,22,21,22,5}\n",
    "wifes_daily_prints_log= {0,6,38,5,7,7,3,9,44,88,12,21,22,900}\n",
    "print(daily_prints_log - wifes_daily_prints_log)"
   ]
  },
  {
   "cell_type": "code",
   "execution_count": 15,
   "id": "8f993fa0",
   "metadata": {},
   "outputs": [
    {
     "name": "stdout",
     "output_type": "stream",
     "text": [
      "{0, 900, 38, 6, 12, 88}\n"
     ]
    }
   ],
   "source": [
    "daily_prints_log= {1,2,31,5,7,7,3,9,44,99,22,21,22,5}\n",
    "wifes_daily_prints_log= {0,6,38,5,7,7,3,9,44,88,12,21,22,900}\n",
    "print(wifes_daily_prints_log-daily_prints_log)"
   ]
  },
  {
   "cell_type": "code",
   "execution_count": 16,
   "id": "7e79107a",
   "metadata": {},
   "outputs": [
    {
     "name": "stdout",
     "output_type": "stream",
     "text": [
      "{0, 1, 2, 99, 900, 38, 6, 12, 88, 31}\n"
     ]
    }
   ],
   "source": [
    "daily_prints_log= {1,2,31,5,7,7,3,9,44,99,22,21,22,5}\n",
    "wifes_daily_prints_log= {0,6,38,5,7,7,3,9,44,88,12,21,22,900}\n",
    "print(wifes_daily_prints_log^daily_prints_log)"
   ]
  },
  {
   "cell_type": "code",
   "execution_count": 17,
   "id": "0c3d338f",
   "metadata": {},
   "outputs": [
    {
     "data": {
      "text/plain": [
       "dict"
      ]
     },
     "execution_count": 17,
     "metadata": {},
     "output_type": "execute_result"
    }
   ],
   "source": [
    "dict_cream = {'name':'SamuelAdewumi','weekly intake':10,'favourite ice_creams':['MCC','chocolate']}\n",
    "type(dict_cream)"
   ]
  },
  {
   "cell_type": "code",
   "execution_count": 18,
   "id": "00b1005e",
   "metadata": {},
   "outputs": [
    {
     "name": "stdout",
     "output_type": "stream",
     "text": [
      "{'name': 'SamuelAdewumi', 'weekly intake': 10, 'favourite ice_creams': ['MCC', 'chocolate']}\n"
     ]
    }
   ],
   "source": [
    "dict_cream = {'name':'SamuelAdewumi','weekly intake':10,'favourite ice_creams':['MCC','chocolate']}\n",
    "print(dict_cream)"
   ]
  },
  {
   "cell_type": "code",
   "execution_count": 19,
   "id": "d5a5cd73",
   "metadata": {},
   "outputs": [
    {
     "data": {
      "text/plain": [
       "dict_values(['SamuelAdewumi', 10, ['MCC', 'chocolate']])"
      ]
     },
     "execution_count": 19,
     "metadata": {},
     "output_type": "execute_result"
    }
   ],
   "source": [
    "dict_cream = {'name':'SamuelAdewumi','weekly intake':10,'favourite ice_creams':['MCC','chocolate']}\n",
    "dict_cream.values()"
   ]
  },
  {
   "cell_type": "code",
   "execution_count": 20,
   "id": "91bfbe81",
   "metadata": {},
   "outputs": [
    {
     "data": {
      "text/plain": [
       "dict_keys(['name', 'weekly intake', 'favourite ice_creams'])"
      ]
     },
     "execution_count": 20,
     "metadata": {},
     "output_type": "execute_result"
    }
   ],
   "source": [
    "dict_cream = {'name':'SamuelAdewumi','weekly intake':10,'favourite ice_creams':['MCC','chocolate']}\n",
    "dict_cream.keys()"
   ]
  },
  {
   "cell_type": "code",
   "execution_count": 21,
   "id": "3d8b0f66",
   "metadata": {},
   "outputs": [
    {
     "data": {
      "text/plain": [
       "dict_items([('name', 'SamuelAdewumi'), ('weekly intake', 10), ('favourite ice_creams', ['MCC', 'chocolate'])])"
      ]
     },
     "execution_count": 21,
     "metadata": {},
     "output_type": "execute_result"
    }
   ],
   "source": [
    "dict_cream = {'name':'SamuelAdewumi','weekly intake':10,'favourite ice_creams':['MCC','chocolate']}\n",
    "dict_cream.items()"
   ]
  },
  {
   "cell_type": "code",
   "execution_count": 23,
   "id": "f6217ef3",
   "metadata": {},
   "outputs": [
    {
     "data": {
      "text/plain": [
       "'SamuelAdewumi'"
      ]
     },
     "execution_count": 23,
     "metadata": {},
     "output_type": "execute_result"
    }
   ],
   "source": [
    "dict_cream = {'name':'SamuelAdewumi','weekly intake':10,'favourite ice_creams':['MCC','chocolate']}\n",
    "dict_cream['name']"
   ]
  },
  {
   "cell_type": "code",
   "execution_count": 25,
   "id": "f13cc5a7",
   "metadata": {},
   "outputs": [
    {
     "name": "stdout",
     "output_type": "stream",
     "text": [
      "{'name': 'mrs Giwa', 'weekly intake': 10, 'favourite ice_creams': ['MCC', 'chocolate']}\n"
     ]
    }
   ],
   "source": [
    "dict_cream = {'name':'mrs Giwa','weekly intake':10,'favourite ice_creams':['MCC','chocolate']}\n",
    "print(dict_cream)"
   ]
  },
  {
   "cell_type": "code",
   "execution_count": 26,
   "id": "694efd10",
   "metadata": {},
   "outputs": [
    {
     "name": "stdout",
     "output_type": "stream",
     "text": [
      "{'name': '100', 'weekly intake': 10, 'favourite ice_creams': ['MCC', 'chocolate']}\n"
     ]
    }
   ],
   "source": [
    "dict_cream = {'name':'100','weekly intake':10,'favourite ice_creams':['MCC','chocolate']}\n",
    "print(dict_cream)"
   ]
  },
  {
   "cell_type": "code",
   "execution_count": 31,
   "id": "f6406512",
   "metadata": {},
   "outputs": [
    {
     "name": "stdout",
     "output_type": "stream",
     "text": [
      "It worked\n"
     ]
    }
   ],
   "source": [
    "if 25 > 10:\n",
    "    print('It worked')"
   ]
  },
  {
   "cell_type": "code",
   "execution_count": 34,
   "id": "bdfcc6f8",
   "metadata": {},
   "outputs": [],
   "source": [
    "if 25 < 10:\n",
    "    print('it worked')"
   ]
  },
  {
   "cell_type": "code",
   "execution_count": 42,
   "id": "e8746e12",
   "metadata": {},
   "outputs": [
    {
     "name": "stdout",
     "output_type": "stream",
     "text": [
      "it did not work\n"
     ]
    }
   ],
   "source": [
    "if 25 < 10:\n",
    "    print('It worked')\n",
    "else:\n",
    "    print('it did not work')"
   ]
  },
  {
   "cell_type": "code",
   "execution_count": 43,
   "id": "a521a4ac",
   "metadata": {},
   "outputs": [
    {
     "name": "stdout",
     "output_type": "stream",
     "text": [
      "It worked\n"
     ]
    }
   ],
   "source": [
    "if 25 > 10:\n",
    "     print('It worked')    \n",
    "else:\n",
    "     print('it did not work')"
   ]
  },
  {
   "cell_type": "code",
   "execution_count": 44,
   "id": "cf016cd3",
   "metadata": {},
   "outputs": [
    {
     "name": "stdout",
     "output_type": "stream",
     "text": [
      "it worked\n"
     ]
    }
   ],
   "source": [
    "if 30 > 5:\n",
    "    print('it worked')\n",
    "else:\n",
    "    print('it did not work')"
   ]
  },
  {
   "cell_type": "code",
   "execution_count": 48,
   "id": "e7375d54",
   "metadata": {},
   "outputs": [
    {
     "name": "stdout",
     "output_type": "stream",
     "text": [
      "it did not work\n"
     ]
    }
   ],
   "source": [
    "if 40 > 50:\n",
    "    print('it worked')\n",
    "else:\n",
    "    print('it did not work')"
   ]
  },
  {
   "cell_type": "code",
   "execution_count": 55,
   "id": "043449c0",
   "metadata": {},
   "outputs": [],
   "source": [
    "if 25 > 10:\n",
    "    print:('It worked')\n",
    "elif 25 < 50:\n",
    "    print('elif worked')\n",
    "else:\n",
    "    print('it did not work')"
   ]
  },
  {
   "cell_type": "code",
   "execution_count": 57,
   "id": "13bc0020",
   "metadata": {},
   "outputs": [
    {
     "name": "stdout",
     "output_type": "stream",
     "text": [
      "it didn't work\n"
     ]
    }
   ],
   "source": [
    "print('it worked!') if 10 > 30 else print (\"it didn't work\")"
   ]
  },
  {
   "cell_type": "code",
   "execution_count": 59,
   "id": "25b094aa",
   "metadata": {},
   "outputs": [
    {
     "name": "stdout",
     "output_type": "stream",
     "text": [
      "nested if this statement worked\n"
     ]
    }
   ],
   "source": [
    "if (25 < 10) or (1 > 3):\n",
    "    print('it worked')\n",
    "if 10 > 5:\n",
    "        print ('nested if this statement worked')\n",
    "elif 25 < 20:\n",
    "    print('elif worked')\n",
    "elif 25 > 24:\n",
    "    print('elif 1 worked')\n",
    "elif 25 < 50:\n",
    "    print ('elif 2 worked')\n",
    "else: print ('it did not work')"
   ]
  },
  {
   "cell_type": "code",
   "execution_count": 60,
   "id": "7fc1cf71",
   "metadata": {},
   "outputs": [
    {
     "name": "stdout",
     "output_type": "stream",
     "text": [
      "1\n",
      "2\n",
      "3\n",
      "4\n",
      "5\n"
     ]
    }
   ],
   "source": [
    "integers= [1,2,3,4,5]\n",
    "for number in integers:\n",
    "    print (number)"
   ]
  },
  {
   "cell_type": "code",
   "execution_count": 62,
   "id": "b021849f",
   "metadata": {},
   "outputs": [
    {
     "name": "stdout",
     "output_type": "stream",
     "text": [
      "yep!\n",
      "yep!\n",
      "yep!\n",
      "yep!\n",
      "yep!\n"
     ]
    }
   ],
   "source": [
    "integers= [1,2,3,4,5]\n",
    "for number in integers:\n",
    "     print ('yep!')"
   ]
  },
  {
   "cell_type": "code",
   "execution_count": 63,
   "id": "e2bf9acb",
   "metadata": {},
   "outputs": [
    {
     "name": "stdout",
     "output_type": "stream",
     "text": [
      "2\n",
      "4\n",
      "6\n",
      "8\n",
      "10\n"
     ]
    }
   ],
   "source": [
    "integers= [1,2,3,4,5]\n",
    "for jelly in integers:\n",
    "     print (jelly + jelly)"
   ]
  },
  {
   "cell_type": "code",
   "execution_count": 64,
   "id": "656a80c8",
   "metadata": {},
   "outputs": [
    {
     "name": "stdout",
     "output_type": "stream",
     "text": [
      "0\n",
      "0\n",
      "0\n",
      "0\n",
      "0\n"
     ]
    }
   ],
   "source": [
    "integers= [1,2,3,4,5]\n",
    "for jelly in integers:\n",
    "     print (jelly - jelly)"
   ]
  },
  {
   "cell_type": "code",
   "execution_count": 65,
   "id": "611c2e0c",
   "metadata": {},
   "outputs": [
    {
     "name": "stdout",
     "output_type": "stream",
     "text": [
      "1\n",
      "4\n",
      "9\n",
      "16\n",
      "25\n"
     ]
    }
   ],
   "source": [
    "integers= [1,2,3,4,5]\n",
    "for jelly in integers:\n",
    "     print (jelly * jelly)"
   ]
  },
  {
   "cell_type": "code",
   "execution_count": 67,
   "id": "3d48bd1a",
   "metadata": {},
   "outputs": [
    {
     "name": "stdout",
     "output_type": "stream",
     "text": [
      "Sam Ade\n",
      "200\n",
      "['MCC', 'chocolate']\n"
     ]
    }
   ],
   "source": [
    "ice_cream_dict = {'name':'Sam Ade','weekly intake':200,'favourite ice_cream':['MCC','chocolate']}\n",
    "for cream in ice_cream_dict.values():\n",
    "    print(cream)"
   ]
  },
  {
   "cell_type": "code",
   "execution_count": 68,
   "id": "22f290ce",
   "metadata": {},
   "outputs": [
    {
     "name": "stdout",
     "output_type": "stream",
     "text": [
      "name -> Sam Ade\n",
      "weekly intake -> 200\n",
      "favourite ice_cream -> ['MCC', 'chocolate']\n"
     ]
    }
   ],
   "source": [
    "ice_cream_dict = {'name':'Sam Ade','weekly intake':200,'favourite ice_cream':['MCC','chocolate']}\n",
    "for key, value in ice_cream_dict.items():\n",
    "    print(key, '->', value)"
   ]
  },
  {
   "cell_type": "code",
   "execution_count": 70,
   "id": "4bff9b99",
   "metadata": {},
   "outputs": [
    {
     "name": "stdout",
     "output_type": "stream",
     "text": [
      "vanilla topped with Hot fudge\n",
      "vanilla topped with Oreos\n",
      "vanilla topped with Mashmallows\n",
      "chocolate topped with Hot fudge\n",
      "chocolate topped with Oreos\n",
      "chocolate topped with Mashmallows\n",
      "MCC topped with Hot fudge\n",
      "MCC topped with Oreos\n",
      "MCC topped with Mashmallows\n"
     ]
    }
   ],
   "source": [
    "flavors = ['vanilla', 'chocolate','MCC']\n",
    "toppings =['Hot fudge','Oreos','Mashmallows']\n",
    "for one in flavors:\n",
    "    for two in toppings:\n",
    "        print(one,'topped with',two)"
   ]
  },
  {
   "cell_type": "code",
   "execution_count": null,
   "id": "47aabc9b",
   "metadata": {},
   "outputs": [],
   "source": [
    "number= 0\n",
    "while number < 5:\n",
    "    print (number)\n",
    "    number = (number+1)"
   ]
  },
  {
   "cell_type": "code",
   "execution_count": null,
   "id": "302681c8",
   "metadata": {},
   "outputs": [],
   "source": [
    "number = 0\n",
    "while number < 5:\n",
    "       print (number)\n",
    "           if number == 3:\n",
    "    break \n",
    "       number = number + 1 "
   ]
  },
  {
   "cell_type": "code",
   "execution_count": null,
   "id": "f75d2c2b",
   "metadata": {},
   "outputs": [],
   "source": [
    "flavors = ['vanilla', 'chocolate','MCC']\n",
    "toppings =['Hot fudge','Oreos','Mashmallows']\n",
    "for one in flavors:\n",
    "    for two in toppings:\n",
    "        print(one,'topped with',two)"
   ]
  },
  {
   "cell_type": "code",
   "execution_count": 2,
   "id": "0c9e02c4",
   "metadata": {},
   "outputs": [],
   "source": [
    "testvar2= \"vanilla swirl\""
   ]
  },
  {
   "cell_type": "code",
   "execution_count": 1,
   "id": "1db6247d",
   "metadata": {},
   "outputs": [
    {
     "name": "stdout",
     "output_type": "stream",
     "text": [
      "vanilla topped with Hot fudge\n",
      "vanilla topped with Oreos\n",
      "vanilla topped with Mashmallows\n",
      "chocolate topped with Hot fudge\n",
      "chocolate topped with Oreos\n",
      "chocolate topped with Mashmallows\n",
      "MCC topped with Hot fudge\n",
      "MCC topped with Oreos\n",
      "MCC topped with Mashmallows\n"
     ]
    }
   ],
   "source": [
    "flavors = ['vanilla', 'chocolate','MCC']\n",
    "toppings =['Hot fudge','Oreos','Mashmallows']\n",
    "for one in flavors:\n",
    "    for two in toppings:\n",
    "        print(one,'topped with',two)\n",
    "    "
   ]
  },
  {
   "cell_type": "code",
   "execution_count": 8,
   "id": "0af01b3d",
   "metadata": {},
   "outputs": [
    {
     "name": "stdout",
     "output_type": "stream",
     "text": [
      "0\n",
      "1\n",
      "2\n",
      "3\n",
      "4\n",
      "No longer <5\n"
     ]
    }
   ],
   "source": [
    "number= 0\n",
    "while number < 5:\n",
    "    print(number)\n",
    "    if number==6:\n",
    "        break\n",
    "    number= number + 1\n",
    "else:\n",
    "    print('No longer <5')"
   ]
  },
  {
   "cell_type": "code",
   "execution_count": 13,
   "id": "56d5b2cb",
   "metadata": {},
   "outputs": [
    {
     "name": "stdout",
     "output_type": "stream",
     "text": [
      "0\n",
      "1\n",
      "2\n",
      "3\n",
      "4\n",
      "No longer <5\n"
     ]
    }
   ],
   "source": [
    "number= 0\n",
    "while number < 5:\n",
    "    print(number)\n",
    "    if number==6:\n",
    "        continue\n",
    "    number= number + 1\n",
    "else:\n",
    "    print('No longer <5')"
   ]
  },
  {
   "cell_type": "code",
   "execution_count": 17,
   "id": "c8d7da6a",
   "metadata": {},
   "outputs": [
    {
     "name": "stdout",
     "output_type": "stream",
     "text": [
      "1\n",
      "2\n",
      "4\n",
      "5\n",
      "No longer <5\n"
     ]
    }
   ],
   "source": [
    "number= 0\n",
    "while number < 5:\n",
    "    number= number+1\n",
    "    if number==3:\n",
    "        continue\n",
    "    print (number)\n",
    "else:\n",
    "    print('No longer <5')"
   ]
  },
  {
   "cell_type": "code",
   "execution_count": 18,
   "id": "a2e47657",
   "metadata": {},
   "outputs": [
    {
     "name": "stdout",
     "output_type": "stream",
     "text": [
      "1\n",
      "2\n",
      "3\n",
      "4\n",
      "5\n",
      "No longer <10\n"
     ]
    }
   ],
   "source": [
    "number= 0\n",
    "while number < 5:\n",
    "    number= number+1\n",
    "    if number==10:\n",
    "        continue\n",
    "    print (number)\n",
    "else:\n",
    "    print('No longer <10')"
   ]
  },
  {
   "cell_type": "code",
   "execution_count": 21,
   "id": "41c85ecc",
   "metadata": {},
   "outputs": [
    {
     "name": "stdout",
     "output_type": "stream",
     "text": [
      "we did it\n"
     ]
    }
   ],
   "source": [
    "def first_func():\n",
    "    print ('we did it')\n",
    "first_func()"
   ]
  },
  {
   "cell_type": "code",
   "execution_count": 26,
   "id": "62864b69",
   "metadata": {},
   "outputs": [
    {
     "name": "stdout",
     "output_type": "stream",
     "text": [
      "25\n"
     ]
    }
   ],
   "source": [
    "def number_squared(number):\n",
    "    print(number**2)\n",
    "number_squared(5)"
   ]
  },
  {
   "cell_type": "code",
   "execution_count": 27,
   "id": "d53ae574",
   "metadata": {},
   "outputs": [
    {
     "name": "stdout",
     "output_type": "stream",
     "text": [
      "125\n"
     ]
    }
   ],
   "source": [
    "def number_squared_cust(number,power):\n",
    "    print(number**power)\n",
    "number_squared_cust(5,3)"
   ]
  },
  {
   "cell_type": "code",
   "execution_count": null,
   "id": "7b373e21",
   "metadata": {},
   "outputs": [],
   "source": [
    "def number_args(*number):\n",
    "    print(number[0]*number[1])\n",
    "    number_arg\n",
    "    \n",
    "    \n",
    "    \n",
    "    name = input(\"Please enter your name here: \")\n",
    "\n",
    "weight = int(input(\"Please enter your weight here: \"))\n",
    "\n",
    "height = int(input(\"Please enter your height here: \"))\n",
    "\n",
    "BMI = (weight * 703) / (height * height)\n",
    "\n",
    "print(BMI)\n",
    "\n",
    "if BMI > 0:\n",
    "    if (BMI < 18.5):\n",
    "        print(name +\", Under weight - Minimal\")\n",
    "    elif (BMI < 24.9):\n",
    "        print(name +\", Normal weight - Minimal\")\n",
    "    elif (BMI < 29.9):\n",
    "        print(name +\", Over weight - Increased\")\n",
    "    elif (BMI < 34.9):\n",
    "        print(name +\", Obese - High\")\n",
    "    elif (BMI < 39.9):\n",
    "        print(name +\", Severely Obese - Very High\")\n",
    "    else:\n",
    "        print(name +\", Morbidly Obese - Extremely High\")\n",
    "else:\n",
    "    print(name +\", Please enter a valid data.\")"
   ]
  }
 ],
 "metadata": {
  "kernelspec": {
   "display_name": "Python 3 (ipykernel)",
   "language": "python",
   "name": "python3"
  },
  "language_info": {
   "codemirror_mode": {
    "name": "ipython",
    "version": 3
   },
   "file_extension": ".py",
   "mimetype": "text/x-python",
   "name": "python",
   "nbconvert_exporter": "python",
   "pygments_lexer": "ipython3",
   "version": "3.11.5"
  }
 },
 "nbformat": 4,
 "nbformat_minor": 5
}
